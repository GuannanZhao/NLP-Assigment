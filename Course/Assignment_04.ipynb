{
 "cells": [
  {
   "cell_type": "markdown",
   "metadata": {},
   "source": [
    "# Assignment 12"
   ]
  },
  {
   "cell_type": "markdown",
   "metadata": {},
   "source": [
    "### 1.复习上课内容"
   ]
  },
  {
   "cell_type": "markdown",
   "metadata": {},
   "source": [
    "### 2.回答以下理论问题"
   ]
  },
  {
   "cell_type": "markdown",
   "metadata": {},
   "source": [
    "#### 1. 请写一下TF-IDF的计算公式"
   ]
  },
  {
   "cell_type": "markdown",
   "metadata": {},
   "source": [
    "$$ tf_{t,d} = \\log_{10}(count(t,d) + 1) $$\n",
    "$$ idf_{t} = \\log_{10}(\\frac{N}{df_t}) $$\n",
    "$$ w_{t,d} = tf_{t,d} \\times idf_{t} $$"
   ]
  },
  {
   "cell_type": "markdown",
   "metadata": {},
   "source": [
    "#### 2. LDA算法的基本假设是什么？"
   ]
  },
  {
   "cell_type": "markdown",
   "metadata": {},
   "source": [
    "（1）每个文档的主题满足一定的分布（2）每个主题的单词满足一定的分布。"
   ]
  },
  {
   "cell_type": "markdown",
   "metadata": {},
   "source": [
    "#### 3. 在TextRank算法中构建图的权重是如何得到的？"
   ]
  },
  {
   "cell_type": "markdown",
   "metadata": {},
   "source": [
    "根据词向量计算cos距离，可以作为权重。"
   ]
  },
  {
   "cell_type": "markdown",
   "metadata": {},
   "source": [
    "#### 4. 什么是命名实体识别？ 有什么应用场景？"
   ]
  },
  {
   "cell_type": "markdown",
   "metadata": {},
   "source": [
    "找到一段话里面的特定实体，如人名，地名，公司等。可以应用在知识图谱里。"
   ]
  },
  {
   "cell_type": "markdown",
   "metadata": {},
   "source": [
    "#### 5.NLP主要有哪几类任务 ？"
   ]
  },
  {
   "cell_type": "markdown",
   "metadata": {},
   "source": [
    "序列标注：分词/语义标注  \n",
    "分类任务：文本分类/情感计算  \n",
    "句子关系判断：自然语言推理  \n",
    "生成式任务：机器翻译/文本摘要"
   ]
  },
  {
   "cell_type": "markdown",
   "metadata": {},
   "source": [
    "### 3.实践题"
   ]
  },
  {
   "cell_type": "markdown",
   "metadata": {},
   "source": [
    "#### 3.1 手动实现TextRank算法 (在新闻数据中随机提取100条新闻训练词向量和做做法测试）"
   ]
  },
  {
   "cell_type": "markdown",
   "metadata": {},
   "source": [
    " 提示：\n",
    " 1. 确定窗口，建立图链接。   \n",
    " 2. 通过词向量相似度确定图上边的权重\n",
    " 3. 根据公式实现算法迭代(d=0.85)"
   ]
  },
  {
   "cell_type": "code",
   "execution_count": 62,
   "metadata": {},
   "outputs": [],
   "source": [
    "text = '北京 时间 6 月 20 日 克利夫兰 骑士队 选择 不 与 总经理 大卫 格里芬 续约 格里芬 将 卸任 骑士 总经理 并 在 随后 发表 了 离职 声明 格里芬 首先 感谢 了 骑士 老板 的 知遇之恩 今天 我 将 卸任 骑士 总经理 我们 的 篮球 团队 一起 在 训练场 和 速贷 中心 无论 场内 和 场外 都 取得 了 史无前例 的 成功 我 至今 仍 十分 感激 丹 吉尔伯特 和 其他 股东 给 我 的 机会 能 让 我们 组件 和 领导 了 这支 冠军 球队 随后 他 又 祝愿 骑士 能 在 未来 取得 更好 成绩 并 感谢 了 克城 球迷 我 确信 管理层 和 这支 无私 热情 的 球队 都 全身心 地 投入 到 日常 工作 之中 他们 会 继续 为了 更 高 的 成就 奋斗 我 的 妻子 和 我会 把 自己 作为 克利夫兰 成功 的 一部分 对于 这座 伟大 城市 的 球迷 给予 我们 的 友好 我们 感激不尽 我 对 在 NBA 的 下 一个 挑战 十分 期待 对于 卸任 的 原因 格里芬 表示 我 和 吉尔伯特 都 知道 建设 球队 需要 一样 的 理念 但 现在 我们 的 理念 发生 了 分歧 云彦'"
   ]
  },
  {
   "cell_type": "code",
   "execution_count": 63,
   "metadata": {},
   "outputs": [
    {
     "data": {
      "text/plain": [
       "'北京 时间 6 月 20 日 克利夫兰 骑士队 选择 不 与 总经理 大卫 格里芬 续约 格里芬 将 卸任 骑士 总经理 并 在 随后 发表 了 离职 声明 格里芬 首先 感谢 了 骑士 老板 的 知遇之恩 今天 我 将 卸任 骑士 总经理 我们 的 篮球 团队 一起 在 训练场 和 速贷 中心 无论 场内 和 场外 都 取得 了 史无前例 的 成功 我 至今 仍 十分 感激 丹 吉尔伯特 和 其他 股东 给 我 的 机会 能 让 我们 组件 和 领导 了 这支 冠军 球队 随后 他 又 祝愿 骑士 能 在 未来 取得 更好 成绩 并 感谢 了 克城 球迷 我 确信 管理层 和 这支 无私 热情 的 球队 都 全身心 地 投入 到 日常 工作 之中 他们 会 继续 为了 更 高 的 成就 奋斗 我 的 妻子 和 我会 把 自己 作为 克利夫兰 成功 的 一部分 对于 这座 伟大 城市 的 球迷 给予 我们 的 友好 我们 感激不尽 我 对 在 NBA 的 下 一个 挑战 十分 期待 对于 卸任 的 原因 格里芬 表示 我 和 吉尔伯特 都 知道 建设 球队 需要 一样 的 理念 但 现在 我们 的 理念 发生 了 分歧 云彦'"
      ]
     },
     "execution_count": 63,
     "metadata": {},
     "output_type": "execute_result"
    }
   ],
   "source": [
    "text"
   ]
  },
  {
   "cell_type": "code",
   "execution_count": 64,
   "metadata": {},
   "outputs": [],
   "source": [
    "# 获取停用词表\n",
    "stop_words = []\n",
    "with open('./百度停用词表.txt',encoding='utf-8') as f:\n",
    "    for word in f.readlines():\n",
    "        stop_words.append(word.strip())"
   ]
  },
  {
   "cell_type": "code",
   "execution_count": 65,
   "metadata": {},
   "outputs": [],
   "source": [
    "# 去除文本中的停用词\n",
    "text = [t for t in text.split() if t not in stop_words]"
   ]
  },
  {
   "cell_type": "code",
   "execution_count": 66,
   "metadata": {
    "scrolled": true
   },
   "outputs": [
    {
     "name": "stdout",
     "output_type": "stream",
     "text": [
      "{'北京': {'6', '时间'}, '时间': {'6', '北京', '月'}, '6': {'月', '20', '北京', '时间'}, '月': {'6', '日', '20', '时间'}, '20': {'6', '克利夫兰', '日', '月'}, '日': {'骑士队', '克利夫兰', '20', '月'}, '克利夫兰': {'20', '我会', '成功', '骑士队', '日', '妻子', '选择', '一部分'}, '骑士队': {'总经理', '克利夫兰', '日', '选择'}, '选择': {'骑士队', '克利夫兰', '大卫', '总经理'}, '总经理': {'发表', '篮球', '骑士', '大卫', '卸任', '骑士队', '格里芬', '团队', '随后', '选择'}, '大卫': {'续约', '格里芬', '总经理', '选择'}, '格里芬': {'续约', '总经理', '吉尔伯特', '声明', '骑士', '原因', '大卫', '卸任', '离职', '感谢', '格里芬', '建设'}, '续约': {'格里芬', '大卫', '卸任'}, '卸任': {'续约', '挑战', '老板', '知遇之恩', '骑士', '格里芬', '原因', '总经理', '期待'}, '骑士': {'篮球', '老板', '知遇之恩', '更好', '未来', '格里芬', '卸任', '祝愿', '感谢', '总经理', '随后'}, '随后': {'发表', '球队', '骑士', '祝愿', '离职', '总经理', '冠军'}, '发表': {'离职', '总经理', '声明', '随后'}, '离职': {'发表', '格里芬', '声明', '随后'}, '声明': {'发表', '感谢', '格里芬', '离职'}, '感谢': {'老板', '克城', '声明', '更好', '球迷', '骑士', '成绩', '格里芬'}, '老板': {'骑士', '感谢', '卸任', '知遇之恩'}, '知遇之恩': {'骑士', '老板', '卸任'}, '篮球': {'骑士', '总经理', '团队', '训练场'}, '团队': {'篮球', '总经理', '速贷', '训练场'}, '训练场': {'篮球', '速贷', '团队', '中心'}, '速贷': {'场内', '团队', '训练场', '中心'}, '中心': {'场内', '速贷', '训练场', '场外'}, '场内': {'史无前例', '速贷', '场外', '中心'}, '场外': {'成功', '场内', '史无前例', '中心'}, '史无前例': {'场内', '至今', '场外', '成功'}, '成功': {'场外', '我会', '仍', '这座', '至今', '史无前例', '克利夫兰', '一部分'}, '至今': {'仍', '史无前例', '感激', '成功'}, '仍': {'感激', '至今', '成功', '丹'}, '感激': {'吉尔伯特', '至今', '仍', '丹'}, '丹': {'感激', '吉尔伯特', '仍', '股东'}, '吉尔伯特': {'丹', '球队', '股东', '原因', '机会', '感激', '格里芬', '建设'}, '股东': {'组件', '吉尔伯特', '机会', '丹'}, '机会': {'组件', '吉尔伯特', '领导', '股东'}, '组件': {'这支', '机会', '领导', '股东'}, '领导': {'组件', '这支', '机会', '冠军'}, '这支': {'热情', '组件', '球队', '领导', '管理层', '无私', '确信', '冠军'}, '冠军': {'这支', '领导', '随后', '球队'}, '球队': {'热情', '全身心', '吉尔伯特', '无私', '理念', '这支', '祝愿', '投入', '建设', '随后', '冠军'}, '祝愿': {'骑士', '未来', '球队', '随后'}, '未来': {'骑士', '祝愿', '更好', '成绩'}, '更好': {'骑士', '感谢', '未来', '成绩'}, '成绩': {'未来', '感谢', '更好', '克城'}, '克城': {'确信', '感谢', '成绩', '球迷'}, '球迷': {'克城', '城市', '管理层', '友好', '给予', '这座', '感谢', '确信'}, '确信': {'克城', '球迷', '管理层', '这支'}, '管理层': {'球迷', '无私', '确信', '这支'}, '无私': {'这支', '热情', '管理层', '球队'}, '热情': {'这支', '球队', '无私', '全身心'}, '全身心': {'日常', '投入', '热情', '球队'}, '投入': {'日常', '球队', '工作', '全身心'}, '日常': {'之中', '投入', '工作', '全身心'}, '工作': {'之中', '日常', '投入', '会'}, '之中': {'日常', '工作', '会', '更'}, '会': {'之中', '高', '工作', '更'}, '更': {'之中', '高', '会', '成就'}, '高': {'成就', '奋斗', '会', '更'}, '成就': {'高', '奋斗', '妻子', '更'}, '奋斗': {'高', '我会', '妻子', '成就'}, '妻子': {'克利夫兰', '奋斗', '我会', '成就'}, '我会': {'克利夫兰', '妻子', '成功', '奋斗'}, '一部分': {'克利夫兰', '城市', '这座', '成功'}, '这座': {'球迷', '城市', '成功', '一部分'}, '城市': {'球迷', '这座', '给予', '一部分'}, '给予': {'球迷', '城市', '友好', '感激不尽'}, '友好': {'球迷', '感激不尽', 'NBA', '给予'}, '感激不尽': {'下', '友好', 'NBA', '给予'}, 'NBA': {'下', '一个', '友好', '感激不尽'}, '下': {'挑战', '一个', 'NBA', '感激不尽'}, '一个': {'下', 'NBA', '期待', '挑战'}, '挑战': {'下', '一个', '卸任', '期待'}, '期待': {'原因', '一个', '卸任', '挑战'}, '原因': {'格里芬', '卸任', '吉尔伯特', '期待'}, '建设': {'吉尔伯特', '格里芬', '球队', '理念'}, '理念': {'球队', '理念', '分歧', '建设', '发生'}, '发生': {'云彦', '分歧', '理念'}, '分歧': {'发生', '云彦', '理念'}, '云彦': {'分歧', '发生'}}\n"
     ]
    }
   ],
   "source": [
    "connections = dict()\n",
    "\n",
    "# 设定时间窗口\n",
    "window = 3\n",
    "\n",
    "for i in range(len(text) - window + 1):\n",
    "    \n",
    "    # 获取每个窗口中的连接词\n",
    "    for node in text[i: i+window]:\n",
    "        connections.setdefault(node, set())\n",
    "        remain = text[i: i+window]\n",
    "        remain.remove(node)\n",
    "        for n in remain:\n",
    "            connections[node].add(n)\n",
    "            \n",
    "print(connections)"
   ]
  },
  {
   "cell_type": "code",
   "execution_count": 136,
   "metadata": {},
   "outputs": [],
   "source": [
    "# 计算一个 node 的 ws\n",
    "def cal_ws(ws_dict, node, connections, d=0.85):\n",
    "    \n",
    "    # 获取所有相连的 node\n",
    "    connected_nodes = connections[node]\n",
    "    ws_n = 0\n",
    "    for n in connected_nodes:\n",
    "        \n",
    "        # 获取每个相连的 node 有多少条连接\n",
    "        # 通过计算每个相连的 node 的词向量，并计算 cos 作为 weights\n",
    "        # 这里没有计算词向量\n",
    "        out_line = len(connections[n])\n",
    "        ws_n += (ws_dict[n] / out_line)\n",
    "        \n",
    "    ws = (1 - d) + d * ws_n\n",
    "    \n",
    "    return ws\n",
    "\n",
    "\n",
    "# 计算所有 node 的 ws\n",
    "def cal_all_ws(ws_dict, connections):\n",
    "    \n",
    "    # 建立新的字典存储重新计算的 ws\n",
    "    new_ws_dict = dict()\n",
    "    \n",
    "    for node in ws_dict.keys():\n",
    "        \n",
    "        # 重新计算 ws 值\n",
    "        ws = cal_ws(ws_dict, node, connections)\n",
    "        new_ws_dict.setdefault(node, ws)\n",
    "    \n",
    "    return new_ws_dict\n",
    "\n",
    "\n",
    "def main():\n",
    "    result = []\n",
    "\n",
    "    # 每个词的 WS 初始化为 0\n",
    "    ws_dict = dict()\n",
    "    for c in connections.keys():\n",
    "        ws_dict.setdefault(c, 0)\n",
    "    \n",
    "    # 迭代更新 ws\n",
    "    for i in range(50):\n",
    "        ws_dict = cal_all_ws(ws_dict, connections)\n",
    "        result.append(ws_dict)\n",
    "    \n",
    "    return result"
   ]
  },
  {
   "cell_type": "code",
   "execution_count": 137,
   "metadata": {},
   "outputs": [],
   "source": [
    "result = main()"
   ]
  },
  {
   "cell_type": "code",
   "execution_count": 141,
   "metadata": {},
   "outputs": [
    {
     "data": {
      "text/plain": [
       "[('格里芬', 2.1337566109979558),\n",
       " ('球队', 2.097484637833217),\n",
       " ('骑士', 1.9771339232314138),\n",
       " ('总经理', 1.8412060846674927),\n",
       " ('卸任', 1.6813943376941336)]"
      ]
     },
     "execution_count": 141,
     "metadata": {},
     "output_type": "execute_result"
    }
   ],
   "source": [
    "# 最后一次迭代排名前五的词\n",
    "res = [(k, v) for k, v in result[-1].items()]\n",
    "res.sort(key=lambda x: x[1], reverse=True)\n",
    "res[:5]"
   ]
  },
  {
   "cell_type": "code",
   "execution_count": 149,
   "metadata": {},
   "outputs": [
    {
     "data": {
      "image/png": "[encoded data removed]",
      "text/plain": [
       "<matplotlib.figure.Figure at 0x113413748>"
      ]
     },
     "metadata": {},
     "output_type": "display_data"
    }
   ],
   "source": [
    "import matplotlib.pyplot as plt\n",
    "\n",
    "# 画出排名前五的词的 ws 值的变化曲线\n",
    "for k, _ in res[:5]:\n",
    "    plt.plot([r[k] for r in result])"
   ]
  },
  {
   "cell_type": "markdown",
   "metadata": {},
   "source": [
    "#### 选做 1.  提取新闻人物里的对话。(使用以上提取小数据即可）"
   ]
  },
  {
   "cell_type": "markdown",
   "metadata": {},
   "source": [
    "提示：    \n",
    "1.寻找预料里具有表示说的意思。    \n",
    "2.使用语法分析提取句子结构。    \n",
    "3.检测谓语是否有表示说的意思。"
   ]
  },
  {
   "cell_type": "code",
   "execution_count": 150,
   "metadata": {},
   "outputs": [],
   "source": [
    "# todo 等有时间再做"
   ]
  },
  {
   "cell_type": "code",
   "execution_count": null,
   "metadata": {},
   "outputs": [],
   "source": []
  }
 ],
 "metadata": {
  "kernelspec": {
   "display_name": "Python 3",
   "language": "python",
   "name": "python3"
  },
  "language_info": {
   "codemirror_mode": {
    "name": "ipython",
    "version": 3
   },
   "file_extension": ".py",
   "mimetype": "text/x-python",
   "name": "python",
   "nbconvert_exporter": "python",
   "pygments_lexer": "ipython3",
   "version": "3.6.4"
  }
 },
 "nbformat": 4,
 "nbformat_minor": 2
}
